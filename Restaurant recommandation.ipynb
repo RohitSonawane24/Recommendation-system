{
 "cells": [
  {
   "cell_type": "code",
   "execution_count": 68,
   "id": "03b652a0",
   "metadata": {},
   "outputs": [
    {
     "name": "stderr",
     "output_type": "stream",
     "text": [
      "UsageError: Line magic function `%inline` not found.\n"
     ]
    }
   ],
   "source": [
    "import pandas as pd\n",
    "import numpy as np\n",
    "import matplotlib.pyplot as plt\n",
    "%inline matplotlib"
   ]
  },
  {
   "cell_type": "code",
   "execution_count": 82,
   "id": "e5c9ad14",
   "metadata": {},
   "outputs": [
    {
     "data": {
      "text/html": [
       "<div>\n",
       "<style scoped>\n",
       "    .dataframe tbody tr th:only-of-type {\n",
       "        vertical-align: middle;\n",
       "    }\n",
       "\n",
       "    .dataframe tbody tr th {\n",
       "        vertical-align: top;\n",
       "    }\n",
       "\n",
       "    .dataframe thead th {\n",
       "        text-align: right;\n",
       "    }\n",
       "</style>\n",
       "<table border=\"1\" class=\"dataframe\">\n",
       "  <thead>\n",
       "    <tr style=\"text-align: right;\">\n",
       "      <th></th>\n",
       "      <th>Name</th>\n",
       "      <th>Location</th>\n",
       "      <th>Locality</th>\n",
       "      <th>City</th>\n",
       "      <th>Cuisine</th>\n",
       "      <th>Rating</th>\n",
       "      <th>Votes</th>\n",
       "      <th>Cost</th>\n",
       "    </tr>\n",
       "  </thead>\n",
       "  <tbody>\n",
       "    <tr>\n",
       "      <th>0</th>\n",
       "      <td>Local</td>\n",
       "      <td>Scindia House,Connaught Place, Central Delhi</td>\n",
       "      <td>Central Delhi</td>\n",
       "      <td>Delhi</td>\n",
       "      <td>North Indian,  Finger Food,  Continental</td>\n",
       "      <td>4.1</td>\n",
       "      <td>2415</td>\n",
       "      <td>2000</td>\n",
       "    </tr>\n",
       "    <tr>\n",
       "      <th>1</th>\n",
       "      <td>The G.T. ROAD</td>\n",
       "      <td>M-Block,Connaught Place, Central Delhi</td>\n",
       "      <td>Central Delhi</td>\n",
       "      <td>Delhi</td>\n",
       "      <td>North Indian</td>\n",
       "      <td>4.3</td>\n",
       "      <td>2363</td>\n",
       "      <td>1500</td>\n",
       "    </tr>\n",
       "    <tr>\n",
       "      <th>2</th>\n",
       "      <td>Tamasha</td>\n",
       "      <td>Connaught Place, Central Delhi</td>\n",
       "      <td>Central Delhi</td>\n",
       "      <td>Delhi</td>\n",
       "      <td>Finger Food,  North Indian,  Italian,  Contine...</td>\n",
       "      <td>4.2</td>\n",
       "      <td>5016</td>\n",
       "      <td>2000</td>\n",
       "    </tr>\n",
       "    <tr>\n",
       "      <th>3</th>\n",
       "      <td>The Junkyard Cafe</td>\n",
       "      <td>Connaught Place, Central Delhi</td>\n",
       "      <td>Central Delhi</td>\n",
       "      <td>Delhi</td>\n",
       "      <td>North Indian,  Mediterranean,  Asian,  Italian...</td>\n",
       "      <td>4.2</td>\n",
       "      <td>2821</td>\n",
       "      <td>1800</td>\n",
       "    </tr>\n",
       "    <tr>\n",
       "      <th>4</th>\n",
       "      <td>Chili's American Grill and Bar</td>\n",
       "      <td>M-Block,Connaught Place, Central Delhi</td>\n",
       "      <td>Central Delhi</td>\n",
       "      <td>Delhi</td>\n",
       "      <td>Mexican,  American,  Italian</td>\n",
       "      <td>4.4</td>\n",
       "      <td>1094</td>\n",
       "      <td>2000</td>\n",
       "    </tr>\n",
       "  </tbody>\n",
       "</table>\n",
       "</div>"
      ],
      "text/plain": [
       "                             Name  \\\n",
       "0                           Local   \n",
       "1                   The G.T. ROAD   \n",
       "2                         Tamasha   \n",
       "3               The Junkyard Cafe   \n",
       "4  Chili's American Grill and Bar   \n",
       "\n",
       "                                       Location        Locality   City  \\\n",
       "0  Scindia House,Connaught Place, Central Delhi   Central Delhi  Delhi   \n",
       "1        M-Block,Connaught Place, Central Delhi   Central Delhi  Delhi   \n",
       "2                Connaught Place, Central Delhi   Central Delhi  Delhi   \n",
       "3                Connaught Place, Central Delhi   Central Delhi  Delhi   \n",
       "4        M-Block,Connaught Place, Central Delhi   Central Delhi  Delhi   \n",
       "\n",
       "                                             Cuisine  Rating  Votes  Cost  \n",
       "0           North Indian,  Finger Food,  Continental     4.1   2415  2000  \n",
       "1                                       North Indian     4.3   2363  1500  \n",
       "2  Finger Food,  North Indian,  Italian,  Contine...     4.2   5016  2000  \n",
       "3  North Indian,  Mediterranean,  Asian,  Italian...     4.2   2821  1800  \n",
       "4                       Mexican,  American,  Italian     4.4   1094  2000  "
      ]
     },
     "execution_count": 82,
     "metadata": {},
     "output_type": "execute_result"
    }
   ],
   "source": [
    "df = pd.read_csv(\"restaurants.csv\")\n",
    "df.head()"
   ]
  },
  {
   "cell_type": "code",
   "execution_count": null,
   "id": "13a951a0",
   "metadata": {},
   "outputs": [],
   "source": [
    "df['Cuisine'].value_counts()"
   ]
  },
  {
   "cell_type": "code",
   "execution_count": null,
   "id": "72cc3cf8",
   "metadata": {},
   "outputs": [],
   "source": [
    "df.isnull().sum()"
   ]
  },
  {
   "cell_type": "code",
   "execution_count": 83,
   "id": "ee17304d",
   "metadata": {},
   "outputs": [],
   "source": [
    "def lowerf(name):\n",
    "    for i in name:\n",
    "        return str.lower(i)"
   ]
  },
  {
   "cell_type": "code",
   "execution_count": null,
   "id": "e8f60f68",
   "metadata": {},
   "outputs": [],
   "source": [
    "df['Location'] = df['Location'].apply(lambda x:x.lower())\n",
    "df['Locality'] = df['Locality'].apply(lambda x:x.lower())\n",
    "df['Cuisine'] = df['Cuisine'].apply(lambda x:x.lower())\n",
    "df['City'] = df['City'].apply(lambda x:x.lower())"
   ]
  },
  {
   "cell_type": "code",
   "execution_count": 69,
   "id": "24005992",
   "metadata": {},
   "outputs": [
    {
     "data": {
      "text/html": [
       "<div>\n",
       "<style scoped>\n",
       "    .dataframe tbody tr th:only-of-type {\n",
       "        vertical-align: middle;\n",
       "    }\n",
       "\n",
       "    .dataframe tbody tr th {\n",
       "        vertical-align: top;\n",
       "    }\n",
       "\n",
       "    .dataframe thead th {\n",
       "        text-align: right;\n",
       "    }\n",
       "</style>\n",
       "<table border=\"1\" class=\"dataframe\">\n",
       "  <thead>\n",
       "    <tr style=\"text-align: right;\">\n",
       "      <th></th>\n",
       "      <th>Name</th>\n",
       "      <th>Location</th>\n",
       "      <th>Locality</th>\n",
       "      <th>City</th>\n",
       "      <th>Cuisine</th>\n",
       "      <th>Rating</th>\n",
       "      <th>Votes</th>\n",
       "      <th>Cost</th>\n",
       "      <th>tags</th>\n",
       "    </tr>\n",
       "  </thead>\n",
       "  <tbody>\n",
       "    <tr>\n",
       "      <th>0</th>\n",
       "      <td>Local</td>\n",
       "      <td>scindiahouse,connaughtplace,centraldelhi</td>\n",
       "      <td>centraldelhi</td>\n",
       "      <td>delhi</td>\n",
       "      <td>northindian,fingerfood,continental</td>\n",
       "      <td>4.1</td>\n",
       "      <td>2415</td>\n",
       "      <td>2000</td>\n",
       "      <td>delhiscindiahouse,connaughtplace,centraldelhid...</td>\n",
       "    </tr>\n",
       "    <tr>\n",
       "      <th>1</th>\n",
       "      <td>The G.T. ROAD</td>\n",
       "      <td>m-block,connaughtplace,centraldelhi</td>\n",
       "      <td>centraldelhi</td>\n",
       "      <td>delhi</td>\n",
       "      <td>northindian</td>\n",
       "      <td>4.3</td>\n",
       "      <td>2363</td>\n",
       "      <td>1500</td>\n",
       "      <td>delhim-block,connaughtplace,centraldelhidelhin...</td>\n",
       "    </tr>\n",
       "    <tr>\n",
       "      <th>2</th>\n",
       "      <td>Tamasha</td>\n",
       "      <td>connaughtplace,centraldelhi</td>\n",
       "      <td>centraldelhi</td>\n",
       "      <td>delhi</td>\n",
       "      <td>fingerfood,northindian,italian,continental,asian</td>\n",
       "      <td>4.2</td>\n",
       "      <td>5016</td>\n",
       "      <td>2000</td>\n",
       "      <td>delhiconnaughtplace,centraldelhidelhifingerfoo...</td>\n",
       "    </tr>\n",
       "    <tr>\n",
       "      <th>3</th>\n",
       "      <td>The Junkyard Cafe</td>\n",
       "      <td>connaughtplace,centraldelhi</td>\n",
       "      <td>centraldelhi</td>\n",
       "      <td>delhi</td>\n",
       "      <td>northindian,mediterranean,asian,italian,oriental</td>\n",
       "      <td>4.2</td>\n",
       "      <td>2821</td>\n",
       "      <td>1800</td>\n",
       "      <td>delhiconnaughtplace,centraldelhidelhinorthindi...</td>\n",
       "    </tr>\n",
       "    <tr>\n",
       "      <th>4</th>\n",
       "      <td>Chili's American Grill and Bar</td>\n",
       "      <td>m-block,connaughtplace,centraldelhi</td>\n",
       "      <td>centraldelhi</td>\n",
       "      <td>delhi</td>\n",
       "      <td>mexican,american,italian</td>\n",
       "      <td>4.4</td>\n",
       "      <td>1094</td>\n",
       "      <td>2000</td>\n",
       "      <td>delhim-block,connaughtplace,centraldelhidelhim...</td>\n",
       "    </tr>\n",
       "  </tbody>\n",
       "</table>\n",
       "</div>"
      ],
      "text/plain": [
       "                             Name                                  Location  \\\n",
       "0                           Local  scindiahouse,connaughtplace,centraldelhi   \n",
       "1                   The G.T. ROAD       m-block,connaughtplace,centraldelhi   \n",
       "2                         Tamasha               connaughtplace,centraldelhi   \n",
       "3               The Junkyard Cafe               connaughtplace,centraldelhi   \n",
       "4  Chili's American Grill and Bar       m-block,connaughtplace,centraldelhi   \n",
       "\n",
       "       Locality   City                                           Cuisine  \\\n",
       "0  centraldelhi  delhi                northindian,fingerfood,continental   \n",
       "1  centraldelhi  delhi                                       northindian   \n",
       "2  centraldelhi  delhi  fingerfood,northindian,italian,continental,asian   \n",
       "3  centraldelhi  delhi  northindian,mediterranean,asian,italian,oriental   \n",
       "4  centraldelhi  delhi                          mexican,american,italian   \n",
       "\n",
       "   Rating  Votes  Cost                                               tags  \n",
       "0     4.1   2415  2000  delhiscindiahouse,connaughtplace,centraldelhid...  \n",
       "1     4.3   2363  1500  delhim-block,connaughtplace,centraldelhidelhin...  \n",
       "2     4.2   5016  2000  delhiconnaughtplace,centraldelhidelhifingerfoo...  \n",
       "3     4.2   2821  1800  delhiconnaughtplace,centraldelhidelhinorthindi...  \n",
       "4     4.4   1094  2000  delhim-block,connaughtplace,centraldelhidelhim...  "
      ]
     },
     "execution_count": 69,
     "metadata": {},
     "output_type": "execute_result"
    }
   ],
   "source": [
    "df.head()"
   ]
  },
  {
   "cell_type": "code",
   "execution_count": 85,
   "id": "b7889ad5",
   "metadata": {},
   "outputs": [],
   "source": [
    "df.drop_duplicates(inplace = True)"
   ]
  },
  {
   "cell_type": "code",
   "execution_count": 84,
   "id": "324f21a4",
   "metadata": {},
   "outputs": [],
   "source": [
    "df['Location'] = df['Location'].apply(lambda x:x.replace(\" \",\"\"))\n",
    "df['Locality'] = df['Locality'].apply(lambda x:x.replace(\" \",\"\"))\n",
    "df['Cuisine'] = df['Cuisine'].apply(lambda x:x.replace(\" \",\"\"))\n"
   ]
  },
  {
   "cell_type": "code",
   "execution_count": 72,
   "id": "427d56e1",
   "metadata": {},
   "outputs": [
    {
     "data": {
      "text/html": [
       "<div>\n",
       "<style scoped>\n",
       "    .dataframe tbody tr th:only-of-type {\n",
       "        vertical-align: middle;\n",
       "    }\n",
       "\n",
       "    .dataframe tbody tr th {\n",
       "        vertical-align: top;\n",
       "    }\n",
       "\n",
       "    .dataframe thead th {\n",
       "        text-align: right;\n",
       "    }\n",
       "</style>\n",
       "<table border=\"1\" class=\"dataframe\">\n",
       "  <thead>\n",
       "    <tr style=\"text-align: right;\">\n",
       "      <th></th>\n",
       "      <th>Name</th>\n",
       "      <th>Location</th>\n",
       "      <th>Locality</th>\n",
       "      <th>City</th>\n",
       "      <th>Cuisine</th>\n",
       "      <th>Rating</th>\n",
       "      <th>Votes</th>\n",
       "      <th>Cost</th>\n",
       "      <th>tags</th>\n",
       "    </tr>\n",
       "  </thead>\n",
       "  <tbody>\n",
       "    <tr>\n",
       "      <th>0</th>\n",
       "      <td>Local</td>\n",
       "      <td>scindiahouse,connaughtplace,centraldelhi</td>\n",
       "      <td>centraldelhi</td>\n",
       "      <td>delhi</td>\n",
       "      <td>northindian,fingerfood,continental</td>\n",
       "      <td>4.1</td>\n",
       "      <td>2415</td>\n",
       "      <td>2000</td>\n",
       "      <td>delhiscindiahouse,connaughtplace,centraldelhid...</td>\n",
       "    </tr>\n",
       "    <tr>\n",
       "      <th>1</th>\n",
       "      <td>The G.T. ROAD</td>\n",
       "      <td>m-block,connaughtplace,centraldelhi</td>\n",
       "      <td>centraldelhi</td>\n",
       "      <td>delhi</td>\n",
       "      <td>northindian</td>\n",
       "      <td>4.3</td>\n",
       "      <td>2363</td>\n",
       "      <td>1500</td>\n",
       "      <td>delhim-block,connaughtplace,centraldelhidelhin...</td>\n",
       "    </tr>\n",
       "    <tr>\n",
       "      <th>2</th>\n",
       "      <td>Tamasha</td>\n",
       "      <td>connaughtplace,centraldelhi</td>\n",
       "      <td>centraldelhi</td>\n",
       "      <td>delhi</td>\n",
       "      <td>fingerfood,northindian,italian,continental,asian</td>\n",
       "      <td>4.2</td>\n",
       "      <td>5016</td>\n",
       "      <td>2000</td>\n",
       "      <td>delhiconnaughtplace,centraldelhidelhifingerfoo...</td>\n",
       "    </tr>\n",
       "    <tr>\n",
       "      <th>3</th>\n",
       "      <td>The Junkyard Cafe</td>\n",
       "      <td>connaughtplace,centraldelhi</td>\n",
       "      <td>centraldelhi</td>\n",
       "      <td>delhi</td>\n",
       "      <td>northindian,mediterranean,asian,italian,oriental</td>\n",
       "      <td>4.2</td>\n",
       "      <td>2821</td>\n",
       "      <td>1800</td>\n",
       "      <td>delhiconnaughtplace,centraldelhidelhinorthindi...</td>\n",
       "    </tr>\n",
       "    <tr>\n",
       "      <th>4</th>\n",
       "      <td>Chili's American Grill and Bar</td>\n",
       "      <td>m-block,connaughtplace,centraldelhi</td>\n",
       "      <td>centraldelhi</td>\n",
       "      <td>delhi</td>\n",
       "      <td>mexican,american,italian</td>\n",
       "      <td>4.4</td>\n",
       "      <td>1094</td>\n",
       "      <td>2000</td>\n",
       "      <td>delhim-block,connaughtplace,centraldelhidelhim...</td>\n",
       "    </tr>\n",
       "  </tbody>\n",
       "</table>\n",
       "</div>"
      ],
      "text/plain": [
       "                             Name                                  Location  \\\n",
       "0                           Local  scindiahouse,connaughtplace,centraldelhi   \n",
       "1                   The G.T. ROAD       m-block,connaughtplace,centraldelhi   \n",
       "2                         Tamasha               connaughtplace,centraldelhi   \n",
       "3               The Junkyard Cafe               connaughtplace,centraldelhi   \n",
       "4  Chili's American Grill and Bar       m-block,connaughtplace,centraldelhi   \n",
       "\n",
       "       Locality   City                                           Cuisine  \\\n",
       "0  centraldelhi  delhi                northindian,fingerfood,continental   \n",
       "1  centraldelhi  delhi                                       northindian   \n",
       "2  centraldelhi  delhi  fingerfood,northindian,italian,continental,asian   \n",
       "3  centraldelhi  delhi  northindian,mediterranean,asian,italian,oriental   \n",
       "4  centraldelhi  delhi                          mexican,american,italian   \n",
       "\n",
       "   Rating  Votes  Cost                                               tags  \n",
       "0     4.1   2415  2000  delhiscindiahouse,connaughtplace,centraldelhid...  \n",
       "1     4.3   2363  1500  delhim-block,connaughtplace,centraldelhidelhin...  \n",
       "2     4.2   5016  2000  delhiconnaughtplace,centraldelhidelhifingerfoo...  \n",
       "3     4.2   2821  1800  delhiconnaughtplace,centraldelhidelhinorthindi...  \n",
       "4     4.4   1094  2000  delhim-block,connaughtplace,centraldelhidelhim...  "
      ]
     },
     "execution_count": 72,
     "metadata": {},
     "output_type": "execute_result"
    }
   ],
   "source": [
    "df.head()"
   ]
  },
  {
   "cell_type": "code",
   "execution_count": 90,
   "id": "475c5217",
   "metadata": {},
   "outputs": [],
   "source": [
    "df['tags'] = df['City']+df['Location']+df['City']+df['Cuisine']+df['Rating']+df['Votes']+df['Cost']"
   ]
  },
  {
   "cell_type": "code",
   "execution_count": 156,
   "id": "c1bdd52b",
   "metadata": {},
   "outputs": [],
   "source": [
    "columns  = df[['Name','Locality','tags','Cuisine']]\n"
   ]
  },
  {
   "cell_type": "code",
   "execution_count": 107,
   "id": "ff9d7ba8",
   "metadata": {},
   "outputs": [
    {
     "data": {
      "text/html": [
       "<div>\n",
       "<style scoped>\n",
       "    .dataframe tbody tr th:only-of-type {\n",
       "        vertical-align: middle;\n",
       "    }\n",
       "\n",
       "    .dataframe tbody tr th {\n",
       "        vertical-align: top;\n",
       "    }\n",
       "\n",
       "    .dataframe thead th {\n",
       "        text-align: right;\n",
       "    }\n",
       "</style>\n",
       "<table border=\"1\" class=\"dataframe\">\n",
       "  <thead>\n",
       "    <tr style=\"text-align: right;\">\n",
       "      <th></th>\n",
       "      <th>Name</th>\n",
       "      <th>Locality</th>\n",
       "      <th>tags</th>\n",
       "    </tr>\n",
       "  </thead>\n",
       "  <tbody>\n",
       "    <tr>\n",
       "      <th>0</th>\n",
       "      <td>Local</td>\n",
       "      <td>CentralDelhi</td>\n",
       "      <td>DelhiScindiaHouse,ConnaughtPlace,CentralDelhiD...</td>\n",
       "    </tr>\n",
       "    <tr>\n",
       "      <th>1</th>\n",
       "      <td>The G.T. ROAD</td>\n",
       "      <td>CentralDelhi</td>\n",
       "      <td>DelhiM-Block,ConnaughtPlace,CentralDelhiDelhiN...</td>\n",
       "    </tr>\n",
       "    <tr>\n",
       "      <th>2</th>\n",
       "      <td>Tamasha</td>\n",
       "      <td>CentralDelhi</td>\n",
       "      <td>DelhiConnaughtPlace,CentralDelhiDelhiFingerFoo...</td>\n",
       "    </tr>\n",
       "    <tr>\n",
       "      <th>3</th>\n",
       "      <td>The Junkyard Cafe</td>\n",
       "      <td>CentralDelhi</td>\n",
       "      <td>DelhiConnaughtPlace,CentralDelhiDelhiNorthIndi...</td>\n",
       "    </tr>\n",
       "    <tr>\n",
       "      <th>4</th>\n",
       "      <td>Chili's American Grill and Bar</td>\n",
       "      <td>CentralDelhi</td>\n",
       "      <td>DelhiM-Block,ConnaughtPlace,CentralDelhiDelhiM...</td>\n",
       "    </tr>\n",
       "    <tr>\n",
       "      <th>...</th>\n",
       "      <td>...</td>\n",
       "      <td>...</td>\n",
       "      <td>...</td>\n",
       "    </tr>\n",
       "    <tr>\n",
       "      <th>6588</th>\n",
       "      <td>Shree Rathnam</td>\n",
       "      <td>WestLudhiana</td>\n",
       "      <td>LudhianaWaveMall,BRSNagar,WestLudhianaLudhiana...</td>\n",
       "    </tr>\n",
       "    <tr>\n",
       "      <th>6589</th>\n",
       "      <td>Cafe Delish</td>\n",
       "      <td>WestLudhiana</td>\n",
       "      <td>LudhianaRadissonBlu,RajguruNagar,WestLudhianaL...</td>\n",
       "    </tr>\n",
       "    <tr>\n",
       "      <th>6590</th>\n",
       "      <td>3 K Resorts</td>\n",
       "      <td>WestLudhiana</td>\n",
       "      <td>LudhianaBRSNagar,WestLudhianaLudhianaNorthIndi...</td>\n",
       "    </tr>\n",
       "    <tr>\n",
       "      <th>6591</th>\n",
       "      <td>Dovka Bar</td>\n",
       "      <td>CentralLudhiana</td>\n",
       "      <td>LudhianaNirvanaHotelBanquetsClub,PAU,CentralLu...</td>\n",
       "    </tr>\n",
       "    <tr>\n",
       "      <th>6592</th>\n",
       "      <td>Urban Vibes</td>\n",
       "      <td>WestLudhiana</td>\n",
       "      <td>LudhianaAggarNagar,WestLudhianaLudhianaMulti-C...</td>\n",
       "    </tr>\n",
       "  </tbody>\n",
       "</table>\n",
       "<p>6590 rows × 3 columns</p>\n",
       "</div>"
      ],
      "text/plain": [
       "                                Name         Locality  \\\n",
       "0                              Local     CentralDelhi   \n",
       "1                      The G.T. ROAD     CentralDelhi   \n",
       "2                            Tamasha     CentralDelhi   \n",
       "3                  The Junkyard Cafe     CentralDelhi   \n",
       "4     Chili's American Grill and Bar     CentralDelhi   \n",
       "...                              ...              ...   \n",
       "6588                   Shree Rathnam     WestLudhiana   \n",
       "6589                     Cafe Delish     WestLudhiana   \n",
       "6590                     3 K Resorts     WestLudhiana   \n",
       "6591                       Dovka Bar  CentralLudhiana   \n",
       "6592                     Urban Vibes     WestLudhiana   \n",
       "\n",
       "                                                   tags  \n",
       "0     DelhiScindiaHouse,ConnaughtPlace,CentralDelhiD...  \n",
       "1     DelhiM-Block,ConnaughtPlace,CentralDelhiDelhiN...  \n",
       "2     DelhiConnaughtPlace,CentralDelhiDelhiFingerFoo...  \n",
       "3     DelhiConnaughtPlace,CentralDelhiDelhiNorthIndi...  \n",
       "4     DelhiM-Block,ConnaughtPlace,CentralDelhiDelhiM...  \n",
       "...                                                 ...  \n",
       "6588  LudhianaWaveMall,BRSNagar,WestLudhianaLudhiana...  \n",
       "6589  LudhianaRadissonBlu,RajguruNagar,WestLudhianaL...  \n",
       "6590  LudhianaBRSNagar,WestLudhianaLudhianaNorthIndi...  \n",
       "6591  LudhianaNirvanaHotelBanquetsClub,PAU,CentralLu...  \n",
       "6592  LudhianaAggarNagar,WestLudhianaLudhianaMulti-C...  \n",
       "\n",
       "[6590 rows x 3 columns]"
      ]
     },
     "execution_count": 107,
     "metadata": {},
     "output_type": "execute_result"
    }
   ],
   "source": [
    "columns\n"
   ]
  },
  {
   "cell_type": "code",
   "execution_count": 92,
   "id": "bc1a19ed",
   "metadata": {},
   "outputs": [],
   "source": [
    "from sklearn.feature_extraction.text import CountVectorizer\n",
    "cv =  CountVectorizer(max_features = 500, stop_words = 'english')"
   ]
  },
  {
   "cell_type": "code",
   "execution_count": 157,
   "id": "21700d5e",
   "metadata": {},
   "outputs": [],
   "source": [
    "vectors = cv.fit_transform(columns['tags']).toarray()\n"
   ]
  },
  {
   "cell_type": "code",
   "execution_count": 131,
   "id": "d362044f",
   "metadata": {
    "scrolled": false
   },
   "outputs": [
    {
     "data": {
      "text/plain": [
       "(6590, 500)"
      ]
     },
     "execution_count": 131,
     "metadata": {},
     "output_type": "execute_result"
    }
   ],
   "source": [
    "vectors.shape"
   ]
  },
  {
   "cell_type": "code",
   "execution_count": 87,
   "id": "f4315df7",
   "metadata": {},
   "outputs": [],
   "source": [
    "df['Votes'] = df['Votes'].astype(str)\n",
    "df['Rating'] = df['Rating'].astype(str)\n",
    "df['Cost'] = df['Cost'].astype(str)"
   ]
  },
  {
   "cell_type": "code",
   "execution_count": 89,
   "id": "06fc2d24",
   "metadata": {},
   "outputs": [
    {
     "data": {
      "text/plain": [
       "dtype('O')"
      ]
     },
     "execution_count": 89,
     "metadata": {},
     "output_type": "execute_result"
    }
   ],
   "source": [
    "df['Rating'].dtype"
   ]
  },
  {
   "cell_type": "code",
   "execution_count": 158,
   "id": "0c0a8a02",
   "metadata": {},
   "outputs": [],
   "source": [
    "from sklearn.metrics.pairwise import cosine_similarity\n",
    "similarity = cosine_similarity(vectors)\n"
   ]
  },
  {
   "cell_type": "code",
   "execution_count": 129,
   "id": "b582307b",
   "metadata": {},
   "outputs": [
    {
     "data": {
      "text/plain": [
       "0       DelhiScindiaHouse,ConnaughtPlace,CentralDelhiD...\n",
       "1       DelhiM-Block,ConnaughtPlace,CentralDelhiDelhiN...\n",
       "2       DelhiConnaughtPlace,CentralDelhiDelhiFingerFoo...\n",
       "3       DelhiConnaughtPlace,CentralDelhiDelhiNorthIndi...\n",
       "4       DelhiM-Block,ConnaughtPlace,CentralDelhiDelhiM...\n",
       "                              ...                        \n",
       "6588    LudhianaWaveMall,BRSNagar,WestLudhianaLudhiana...\n",
       "6589    LudhianaRadissonBlu,RajguruNagar,WestLudhianaL...\n",
       "6590    LudhianaBRSNagar,WestLudhianaLudhianaNorthIndi...\n",
       "6591    LudhianaNirvanaHotelBanquetsClub,PAU,CentralLu...\n",
       "6592    LudhianaAggarNagar,WestLudhianaLudhianaMulti-C...\n",
       "Name: tags, Length: 6590, dtype: object"
      ]
     },
     "execution_count": 129,
     "metadata": {},
     "output_type": "execute_result"
    }
   ],
   "source": [
    "\n"
   ]
  },
  {
   "cell_type": "code",
   "execution_count": 159,
   "id": "117a1ae2",
   "metadata": {},
   "outputs": [
    {
     "data": {
      "text/html": [
       "<div>\n",
       "<style scoped>\n",
       "    .dataframe tbody tr th:only-of-type {\n",
       "        vertical-align: middle;\n",
       "    }\n",
       "\n",
       "    .dataframe tbody tr th {\n",
       "        vertical-align: top;\n",
       "    }\n",
       "\n",
       "    .dataframe thead th {\n",
       "        text-align: right;\n",
       "    }\n",
       "</style>\n",
       "<table border=\"1\" class=\"dataframe\">\n",
       "  <thead>\n",
       "    <tr style=\"text-align: right;\">\n",
       "      <th></th>\n",
       "      <th>Name</th>\n",
       "      <th>Locality</th>\n",
       "      <th>tags</th>\n",
       "      <th>Cuisine</th>\n",
       "    </tr>\n",
       "  </thead>\n",
       "  <tbody>\n",
       "    <tr>\n",
       "      <th>0</th>\n",
       "      <td>Local</td>\n",
       "      <td>CentralDelhi</td>\n",
       "      <td>DelhiScindiaHouse,ConnaughtPlace,CentralDelhiD...</td>\n",
       "      <td>NorthIndian,FingerFood,Continental</td>\n",
       "    </tr>\n",
       "    <tr>\n",
       "      <th>1</th>\n",
       "      <td>The G.T. ROAD</td>\n",
       "      <td>CentralDelhi</td>\n",
       "      <td>DelhiM-Block,ConnaughtPlace,CentralDelhiDelhiN...</td>\n",
       "      <td>NorthIndian</td>\n",
       "    </tr>\n",
       "    <tr>\n",
       "      <th>2</th>\n",
       "      <td>Tamasha</td>\n",
       "      <td>CentralDelhi</td>\n",
       "      <td>DelhiConnaughtPlace,CentralDelhiDelhiFingerFoo...</td>\n",
       "      <td>FingerFood,NorthIndian,Italian,Continental,Asian</td>\n",
       "    </tr>\n",
       "    <tr>\n",
       "      <th>3</th>\n",
       "      <td>The Junkyard Cafe</td>\n",
       "      <td>CentralDelhi</td>\n",
       "      <td>DelhiConnaughtPlace,CentralDelhiDelhiNorthIndi...</td>\n",
       "      <td>NorthIndian,Mediterranean,Asian,Italian,Oriental</td>\n",
       "    </tr>\n",
       "    <tr>\n",
       "      <th>4</th>\n",
       "      <td>Chili's American Grill and Bar</td>\n",
       "      <td>CentralDelhi</td>\n",
       "      <td>DelhiM-Block,ConnaughtPlace,CentralDelhiDelhiM...</td>\n",
       "      <td>Mexican,American,Italian</td>\n",
       "    </tr>\n",
       "    <tr>\n",
       "      <th>...</th>\n",
       "      <td>...</td>\n",
       "      <td>...</td>\n",
       "      <td>...</td>\n",
       "      <td>...</td>\n",
       "    </tr>\n",
       "    <tr>\n",
       "      <th>6588</th>\n",
       "      <td>Shree Rathnam</td>\n",
       "      <td>WestLudhiana</td>\n",
       "      <td>LudhianaWaveMall,BRSNagar,WestLudhianaLudhiana...</td>\n",
       "      <td>SouthIndian</td>\n",
       "    </tr>\n",
       "    <tr>\n",
       "      <th>6589</th>\n",
       "      <td>Cafe Delish</td>\n",
       "      <td>WestLudhiana</td>\n",
       "      <td>LudhianaRadissonBlu,RajguruNagar,WestLudhianaL...</td>\n",
       "      <td>Multi-Cuisine,NorthIndian,Continental,Asian,He...</td>\n",
       "    </tr>\n",
       "    <tr>\n",
       "      <th>6590</th>\n",
       "      <td>3 K Resorts</td>\n",
       "      <td>WestLudhiana</td>\n",
       "      <td>LudhianaBRSNagar,WestLudhianaLudhianaNorthIndi...</td>\n",
       "      <td>NorthIndian</td>\n",
       "    </tr>\n",
       "    <tr>\n",
       "      <th>6591</th>\n",
       "      <td>Dovka Bar</td>\n",
       "      <td>CentralLudhiana</td>\n",
       "      <td>LudhianaNirvanaHotelBanquetsClub,PAU,CentralLu...</td>\n",
       "      <td>NorthIndian,Chinese,FingerFood</td>\n",
       "    </tr>\n",
       "    <tr>\n",
       "      <th>6592</th>\n",
       "      <td>Urban Vibes</td>\n",
       "      <td>WestLudhiana</td>\n",
       "      <td>LudhianaAggarNagar,WestLudhianaLudhianaMulti-C...</td>\n",
       "      <td>Multi-Cuisine,NorthIndian,Italian,Chinese,Cont...</td>\n",
       "    </tr>\n",
       "  </tbody>\n",
       "</table>\n",
       "<p>6590 rows × 4 columns</p>\n",
       "</div>"
      ],
      "text/plain": [
       "                                Name         Locality  \\\n",
       "0                              Local     CentralDelhi   \n",
       "1                      The G.T. ROAD     CentralDelhi   \n",
       "2                            Tamasha     CentralDelhi   \n",
       "3                  The Junkyard Cafe     CentralDelhi   \n",
       "4     Chili's American Grill and Bar     CentralDelhi   \n",
       "...                              ...              ...   \n",
       "6588                   Shree Rathnam     WestLudhiana   \n",
       "6589                     Cafe Delish     WestLudhiana   \n",
       "6590                     3 K Resorts     WestLudhiana   \n",
       "6591                       Dovka Bar  CentralLudhiana   \n",
       "6592                     Urban Vibes     WestLudhiana   \n",
       "\n",
       "                                                   tags  \\\n",
       "0     DelhiScindiaHouse,ConnaughtPlace,CentralDelhiD...   \n",
       "1     DelhiM-Block,ConnaughtPlace,CentralDelhiDelhiN...   \n",
       "2     DelhiConnaughtPlace,CentralDelhiDelhiFingerFoo...   \n",
       "3     DelhiConnaughtPlace,CentralDelhiDelhiNorthIndi...   \n",
       "4     DelhiM-Block,ConnaughtPlace,CentralDelhiDelhiM...   \n",
       "...                                                 ...   \n",
       "6588  LudhianaWaveMall,BRSNagar,WestLudhianaLudhiana...   \n",
       "6589  LudhianaRadissonBlu,RajguruNagar,WestLudhianaL...   \n",
       "6590  LudhianaBRSNagar,WestLudhianaLudhianaNorthIndi...   \n",
       "6591  LudhianaNirvanaHotelBanquetsClub,PAU,CentralLu...   \n",
       "6592  LudhianaAggarNagar,WestLudhianaLudhianaMulti-C...   \n",
       "\n",
       "                                                Cuisine  \n",
       "0                    NorthIndian,FingerFood,Continental  \n",
       "1                                           NorthIndian  \n",
       "2      FingerFood,NorthIndian,Italian,Continental,Asian  \n",
       "3      NorthIndian,Mediterranean,Asian,Italian,Oriental  \n",
       "4                              Mexican,American,Italian  \n",
       "...                                                 ...  \n",
       "6588                                        SouthIndian  \n",
       "6589  Multi-Cuisine,NorthIndian,Continental,Asian,He...  \n",
       "6590                                        NorthIndian  \n",
       "6591                     NorthIndian,Chinese,FingerFood  \n",
       "6592  Multi-Cuisine,NorthIndian,Italian,Chinese,Cont...  \n",
       "\n",
       "[6590 rows x 4 columns]"
      ]
     },
     "execution_count": 159,
     "metadata": {},
     "output_type": "execute_result"
    }
   ],
   "source": [
    "columns\n"
   ]
  },
  {
   "cell_type": "code",
   "execution_count": 160,
   "id": "63267752",
   "metadata": {},
   "outputs": [
    {
     "data": {
      "text/plain": [
       "0"
      ]
     },
     "execution_count": 160,
     "metadata": {},
     "output_type": "execute_result"
    }
   ],
   "source": [
    "columns[columns['Locality']== 'CentralDelhi'].index[0]"
   ]
  },
  {
   "cell_type": "code",
   "execution_count": 183,
   "id": "6c8899b6",
   "metadata": {},
   "outputs": [],
   "source": [
    "def recomm(locality):\n",
    "    loc_index = columns[columns['Locality']== locality].index[0]\n",
    "    distances = similarity[loc_index]\n",
    "    res_list = sorted(list(enumerate(distances)), reverse = True, key = lambda x:x[1])[1:6]\n",
    "    \n",
    "    for i in res_list:\n",
    "        print(columns.iloc[i[0]].Name,\" ~ \", columns.iloc[i[0]].Cuisine)"
   ]
  },
  {
   "cell_type": "code",
   "execution_count": 185,
   "id": "f4a72fb5",
   "metadata": {},
   "outputs": [
    {
     "name": "stdout",
     "output_type": "stream",
     "text": [
      "Pritam's Global Cuisine  ~  Multi-Cuisine,NorthIndian,Italian,Chinese,Continental,Oriental\n",
      "Riders Sports Bar  ~  Multi-Cuisine,NorthIndian,Italian,Chinese,Oriental\n",
      "Puzzles  ~  Multi-Cuisine,NorthIndian,Italian,Continental,Oriental\n",
      "Aqua Blue  ~  Multi-Cuisine,NorthIndian,Italian,Continental,Oriental\n",
      "TESORO MIO KITCHEN 'N' KAFFE  ~  Multi-Cuisine,NorthIndian,Italian,Chinese,Continental,Mexican\n"
     ]
    }
   ],
   "source": [
    "recomm('WestLudhiana')"
   ]
  },
  {
   "cell_type": "code",
   "execution_count": 192,
   "id": "1c236e36",
   "metadata": {},
   "outputs": [],
   "source": [
    "import pickle\n",
    "\n",
    "pickle.dump(columns.to_dict(), open('restaurants_dict.pkl','wb'))"
   ]
  },
  {
   "cell_type": "code",
   "execution_count": 193,
   "id": "ea194d08",
   "metadata": {},
   "outputs": [],
   "source": [
    "pickle.dump(similarity, open('similarity.pkl','wb'))"
   ]
  }
 ],
 "metadata": {
  "kernelspec": {
   "display_name": "Python 3",
   "language": "python",
   "name": "python3"
  },
  "language_info": {
   "codemirror_mode": {
    "name": "ipython",
    "version": 3
   },
   "file_extension": ".py",
   "mimetype": "text/x-python",
   "name": "python",
   "nbconvert_exporter": "python",
   "pygments_lexer": "ipython3",
   "version": "3.8.8"
  }
 },
 "nbformat": 4,
 "nbformat_minor": 5
}
